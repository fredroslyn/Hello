{
 "cells": [
  {
   "cell_type": "code",
   "execution_count": 1,
   "id": "4ffa82a7",
   "metadata": {},
   "outputs": [
    {
     "name": "stdout",
     "output_type": "stream",
     "text": [
      "Hello 3\n",
      "Good bye!\n"
     ]
    }
   ],
   "source": [
    "x = 3\n",
    "if x<10: # Boolean statement 1\n",
    "    # code body 1\n",
    "    print(f\"Hello {x}\")\n",
    "# code body 2\n",
    "print(\"Good bye!\")"
   ]
  },
  {
   "cell_type": "code",
   "execution_count": 3,
   "id": "f092739e",
   "metadata": {},
   "outputs": [
    {
     "name": "stdout",
     "output_type": "stream",
     "text": [
      "Good bye!\n"
     ]
    }
   ],
   "source": [
    "x = 20\n",
    "if x<10: # Boolean statement 1\n",
    "    # code body 1\n",
    "    print(f\"Hello {x}\")\n",
    "else:\n",
    "    # code body 2\n",
    "    print(\"Good bye!\")"
   ]
  },
  {
   "cell_type": "code",
   "execution_count": 6,
   "id": "40a87a00",
   "metadata": {},
   "outputs": [
    {
     "name": "stdout",
     "output_type": "stream",
     "text": [
      "x is exactly 10\n"
     ]
    }
   ],
   "source": [
    "x = 10\n",
    "if x<10: # Boolean statement 1\n",
    "    # code body 1\n",
    "    print(\"Less than 10\")\n",
    "elif x>10: # Boolean statement 2\n",
    "    # code body 2\n",
    "    print(\"Greater than 10\")\n",
    "else: # last choice\n",
    "    # code body 3\n",
    "    print(\"x is exactly 10\")"
   ]
  },
  {
   "cell_type": "markdown",
   "id": "e16a397f",
   "metadata": {},
   "source": [
    "The price of ticket for Disneyland is $35 for adults, and $16 for senior citizens (60 years old or above). The ticket price for children aged 3 to 12 years old, is $23, and it is free for children under 3 years old. Write a program to determine the ticket price given a visitor’s age."
   ]
  },
  {
   "cell_type": "code",
   "execution_count": 15,
   "id": "9bc5a89c",
   "metadata": {},
   "outputs": [
    {
     "name": "stdout",
     "output_type": "stream",
     "text": [
      "Age: 50\n",
      "Ticket price: $35.00\n"
     ]
    }
   ],
   "source": [
    "age = int(input(\"Age: \"))\n",
    "if age < 3:\n",
    "    price = 0\n",
    "elif age <= 12:\n",
    "    price = 23\n",
    "elif age >= 60:\n",
    "    price = 16\n",
    "else:\n",
    "    price = 35\n",
    "print(\"Ticket price: ${:.2f}\".format(price))"
   ]
  },
  {
   "cell_type": "markdown",
   "id": "c413a43f",
   "metadata": {},
   "source": [
    "A news boy ordered 550 newspapers to sell. Each piece of newspaper costs 10 cents and can be sold at 60 cents. Write a program to calculate the total profit, given a fixed demand."
   ]
  },
  {
   "cell_type": "code",
   "execution_count": 22,
   "id": "652b9ceb",
   "metadata": {},
   "outputs": [
    {
     "name": "stdout",
     "output_type": "stream",
     "text": [
      "Demand: 30\n",
      "Newspapers sold: 30\n",
      "Total profits: $-37.00\n"
     ]
    }
   ],
   "source": [
    "cost = 0.1\n",
    "price = 0.6\n",
    "order = 550\n",
    "\n",
    "demand = int(input(\"Demand: \"))\n",
    "\n",
    "if demand < order:\n",
    "    sold = demand\n",
    "else:\n",
    "    sold = order\n",
    "\n",
    "profit = price*sold - cost*order\n",
    "\n",
    "print(\"Newspapers sold: \" + str(sold))\n",
    "print(\"Total profits: ${:.2f}\".format(profit))"
   ]
  },
  {
   "cell_type": "code",
   "execution_count": 25,
   "id": "a7ca7811",
   "metadata": {},
   "outputs": [
    {
     "name": "stdout",
     "output_type": "stream",
     "text": [
      "1\n"
     ]
    }
   ],
   "source": [
    "x = 2.5\n",
    "y = 3\n",
    "z = 5 if ((x >= 3) or (not y <= 3)) else 1\n",
    "print(z)"
   ]
  },
  {
   "cell_type": "code",
   "execution_count": 26,
   "id": "9f28c30d",
   "metadata": {},
   "outputs": [
    {
     "name": "stdout",
     "output_type": "stream",
     "text": [
      "1\n"
     ]
    }
   ],
   "source": [
    "x = 2.5\n",
    "y = 3\n",
    "if (x >= 3) or (not y <= 3):\n",
    "    z = 5\n",
    "else:\n",
    "    z = 1\n",
    "print(z)"
   ]
  },
  {
   "cell_type": "code",
   "execution_count": 27,
   "id": "cd150a37",
   "metadata": {},
   "outputs": [
    {
     "name": "stdout",
     "output_type": "stream",
     "text": [
      "What do you say? No\n",
      "What do you say? Go to hell\n",
      "What do you say? I quit\n"
     ]
    }
   ],
   "source": [
    "while True:\n",
    "    reply = input(\"What do you say? \")\n",
    "    if reply == \"I quit\" or reply == \"You win\":\n",
    "        break"
   ]
  },
  {
   "cell_type": "code",
   "execution_count": 35,
   "id": "94ee200a",
   "metadata": {},
   "outputs": [
    {
     "name": "stdout",
     "output_type": "stream",
     "text": [
      "Dr. Strange: Dormammu, I've come to bargain!\n",
      "Domammu: I'll kill you!\n",
      "Dr. Strange: Ah------\n",
      "\n",
      "\n",
      "Dr. Strange: Dormammu, I've come to bargain!\n",
      "Domammu: You win\n",
      "Dr. Strange: Wise choice bro!\n",
      "\n",
      "\n"
     ]
    }
   ],
   "source": [
    "Dormammu_quit = False # initialize status to false\n",
    "\n",
    "while not Dormammu_quit: # while Dormammu is angry\n",
    "    print(\"Dr. Strange: Dormammu, I've come to bargain!\")\n",
    "    Dormammu_says = input(\"Domammu: \") # get Dormammu's input\n",
    "    if Dormammu_says == \"I quit\" or Dormammu_says == \"You win\":\n",
    "        Dormammu_quit = True # status changed\n",
    "        print(\"Dr. Strange: Wise choice bro!\")\n",
    "    else:\n",
    "        print(\"Dr. Strange: Ah------\") # Dr Strange is killed again\n",
    "    print(\"\\n\") # print empty line"
   ]
  },
  {
   "cell_type": "markdown",
   "id": "a59e1b9e",
   "metadata": {},
   "source": [
    "Guess the number game using Dice\n",
    "Number 1 to 6\n",
    "import random\n",
    "random.randint(a, b)\n",
    "use while loop\n",
    "let the user guess the dice number\n",
    "win criteria: guess correctly with 3 times"
   ]
  },
  {
   "cell_type": "code",
   "execution_count": 51,
   "id": "36980471",
   "metadata": {},
   "outputs": [
    {
     "name": "stdout",
     "output_type": "stream",
     "text": [
      "5\n"
     ]
    }
   ],
   "source": [
    "import random\n",
    "print(random.randint(1, 6))"
   ]
  },
  {
   "cell_type": "code",
   "execution_count": 56,
   "id": "5c93743f",
   "metadata": {},
   "outputs": [
    {
     "name": "stdout",
     "output_type": "stream",
     "text": [
      "6\n",
      "Guess the number (1 to 6): 2\n",
      "Guess the number (1 to 6): 3\n",
      "Guess the number (1 to 6): 6\n",
      "You win!\n"
     ]
    }
   ],
   "source": [
    "num = random.randint(1, 6)\n",
    "print(num)\n",
    "count = 0\n",
    "while True:\n",
    "    guess = int(input(\"Guess the number (1 to 6): \"))\n",
    "    if guess == num:\n",
    "        print(\"You win!\")\n",
    "        break\n",
    "    else:\n",
    "        count = count + 1\n",
    "        if count == 3:\n",
    "            print(\"You loose!\")\n",
    "            break"
   ]
  },
  {
   "cell_type": "code",
   "execution_count": 58,
   "id": "033e2bc2",
   "metadata": {},
   "outputs": [
    {
     "name": "stdout",
     "output_type": "stream",
     "text": [
      "What is your name? Lionel Tan\n",
      "Give me a L: \n",
      "Give me a i: \n",
      "Give me a o: \n",
      "Give me a n: \n",
      "Give me a e: \n",
      "Give me a l: \n",
      "Give me a T: \n",
      "Give me a a: \n",
      "Give me a n: \n",
      "What's that spell?\n",
      "Lionel Tan!!\n",
      "Go! Go! Lionel Tan!!\n"
     ]
    }
   ],
   "source": [
    "name = input(\"What is your name? \")\n",
    "\n",
    "for index in range(len(name)):\n",
    "    letter = name[index]\n",
    "    if letter == ' ':\n",
    "        continue    \n",
    "    print(\"Give me a \" + letter + \": \")\n",
    "\n",
    "print(\"What's that spell?\")\n",
    "print(name + \"!!\")\n",
    "\n",
    "print(\"Go! Go! \" + name + \"!!\")"
   ]
  },
  {
   "cell_type": "code",
   "execution_count": 62,
   "id": "a952e9eb",
   "metadata": {},
   "outputs": [
    {
     "name": "stdout",
     "output_type": "stream",
     "text": [
      "abcdef\n",
      "abcdef\n"
     ]
    }
   ],
   "source": [
    "a_string = \"abcdefg\"\n",
    "\n",
    "new_string = \"\"\n",
    "for letter in a_string:\n",
    "    if letter == \"g\":\n",
    "        break\n",
    "    new_string = new_string + letter\n",
    "print(new_string)\n",
    "\n",
    "new_string = \"\"\n",
    "for letter in a_string:\n",
    "    if letter == \"g\":\n",
    "        continue\n",
    "    new_string = new_string + letter\n",
    "print(new_string)"
   ]
  },
  {
   "cell_type": "markdown",
   "id": "8a53ffec",
   "metadata": {},
   "source": [
    "Ask user to key in a number\n",
    "Compute the factorial of the number using a for loop"
   ]
  },
  {
   "cell_type": "code",
   "execution_count": 69,
   "id": "4ccd79fe",
   "metadata": {},
   "outputs": [
    {
     "name": "stdout",
     "output_type": "stream",
     "text": [
      "Number? 5\n",
      "The factorial of 5 is 120\n"
     ]
    }
   ],
   "source": [
    "num = int(input(\"Number? \"))\n",
    "\n",
    "factorial = 1\n",
    "\n",
    "for i in range(num,0,-1):\n",
    "    factorial = factorial * i\n",
    "\n",
    "print(f\"The factorial of {num} is {factorial}\")"
   ]
  },
  {
   "cell_type": "code",
   "execution_count": 79,
   "id": "d4cabd87",
   "metadata": {},
   "outputs": [
    {
     "name": "stdout",
     "output_type": "stream",
     "text": [
      "[17, 1, 3, 6, 9, 2, 8, 10, 40, 5]\n"
     ]
    }
   ],
   "source": [
    "a = [17,1,3,6,9,2,8,10,40,5]\n",
    "print(a)"
   ]
  },
  {
   "cell_type": "code",
   "execution_count": 80,
   "id": "935efbfa",
   "metadata": {},
   "outputs": [
    {
     "name": "stdout",
     "output_type": "stream",
     "text": [
      "{1, 2, 3, 5, 6, 8, 9, 10, 40, 17}\n"
     ]
    }
   ],
   "source": [
    "b = {17,1,3,6,9,2,8,10,40,5}\n",
    "print(b)"
   ]
  },
  {
   "cell_type": "code",
   "execution_count": 76,
   "id": "bb529f7e",
   "metadata": {},
   "outputs": [
    {
     "name": "stdout",
     "output_type": "stream",
     "text": [
      "[1, 2, 3, 5, 6, 8, 9, 10, 17, 40]\n"
     ]
    }
   ],
   "source": [
    "a.sort()\n",
    "print(a)"
   ]
  },
  {
   "cell_type": "code",
   "execution_count": 77,
   "id": "f8415b5c",
   "metadata": {},
   "outputs": [
    {
     "data": {
      "text/plain": [
       "40"
      ]
     },
     "execution_count": 77,
     "metadata": {},
     "output_type": "execute_result"
    }
   ],
   "source": [
    "max(a)"
   ]
  },
  {
   "cell_type": "code",
   "execution_count": 78,
   "id": "5779da92",
   "metadata": {},
   "outputs": [
    {
     "data": {
      "text/plain": [
       "1"
      ]
     },
     "execution_count": 78,
     "metadata": {},
     "output_type": "execute_result"
    }
   ],
   "source": [
    "min(a)"
   ]
  },
  {
   "cell_type": "code",
   "execution_count": 81,
   "id": "97fd6695",
   "metadata": {},
   "outputs": [
    {
     "name": "stdout",
     "output_type": "stream",
     "text": [
      "['Physics', 'Chemistry', 'Biology']\n"
     ]
    }
   ],
   "source": [
    "sci=[\"Physics\",\"Chemistry\",\"Biology\"]\n",
    "print (sci)"
   ]
  },
  {
   "cell_type": "code",
   "execution_count": 83,
   "id": "fca3502f",
   "metadata": {},
   "outputs": [
    {
     "name": "stdout",
     "output_type": "stream",
     "text": [
      "['Biology', 'Chemistry', 'Physics']\n"
     ]
    }
   ],
   "source": [
    "sci.sort()\n",
    "print(sci)"
   ]
  },
  {
   "cell_type": "code",
   "execution_count": 87,
   "id": "e9feeb81",
   "metadata": {},
   "outputs": [
    {
     "name": "stdout",
     "output_type": "stream",
     "text": [
      "1\n",
      "2\n",
      "3\n",
      "4\n",
      "5\n",
      "6\n",
      "7\n",
      "8\n",
      "9\n",
      "10\n"
     ]
    }
   ],
   "source": [
    "for j in range(1,11):\n",
    "   print (j, end=\"\\n\")"
   ]
  },
  {
   "cell_type": "code",
   "execution_count": 88,
   "id": "3a6aa2f1",
   "metadata": {},
   "outputs": [
    {
     "name": "stdout",
     "output_type": "stream",
     "text": [
      "1\n",
      "2\n",
      "3\n",
      "4\n",
      "5\n",
      "6\n",
      "7\n",
      "8\n",
      "9\n",
      "10\n"
     ]
    }
   ],
   "source": [
    "for j in range(1,11):\n",
    "   print (j)"
   ]
  },
  {
   "cell_type": "code",
   "execution_count": 90,
   "id": "fccf071a",
   "metadata": {},
   "outputs": [
    {
     "name": "stdout",
     "output_type": "stream",
     "text": [
      "1 2 3 4 5 6 7 8 9 10 "
     ]
    }
   ],
   "source": [
    "for j in range(1,11):\n",
    "   print (j, end=\" \")"
   ]
  },
  {
   "cell_type": "code",
   "execution_count": 92,
   "id": "8275b86a",
   "metadata": {},
   "outputs": [
    {
     "name": "stdout",
     "output_type": "stream",
     "text": [
      "['dog', 'cat', 'rat', 'fish']\n",
      "['dog', 'cat', 'gerbil', 'fish']\n"
     ]
    }
   ],
   "source": [
    "pets = [\"dog\",\"cat\",\"rat\",\"fish\"]\n",
    "print(pets)\n",
    "pets[2] = \"gerbil\" # Change 3rd element\n",
    "print(pets)"
   ]
  },
  {
   "cell_type": "code",
   "execution_count": 96,
   "id": "bb7281c0",
   "metadata": {},
   "outputs": [
    {
     "name": "stdout",
     "output_type": "stream",
     "text": [
      "['dog', 'cat', 'mouse', 'rabbit']\n",
      "['dog', 'cat', 'rabbit']\n",
      "rabbit\n"
     ]
    }
   ],
   "source": [
    "pets = [\"dog\",\"cat\",\"mouse\",\"rabbit\"]\n",
    "print(pets)\n",
    "del(pets[2])\n",
    "print(pets)\n",
    "print(pets[2])"
   ]
  },
  {
   "cell_type": "code",
   "execution_count": 98,
   "id": "1fd96053",
   "metadata": {},
   "outputs": [
    {
     "name": "stdout",
     "output_type": "stream",
     "text": [
      "['dog', 'cat']\n",
      "['dog', 'cat', 'fish', 'lizard']\n"
     ]
    }
   ],
   "source": [
    "pets = [\"dog\",\"cat\"]\n",
    "print(pets)\n",
    "pets.append(\"fish\")\n",
    "pets.append(\"lizard\")\n",
    "print(pets)"
   ]
  },
  {
   "cell_type": "code",
   "execution_count": 100,
   "id": "5763dfc8",
   "metadata": {},
   "outputs": [
    {
     "name": "stdout",
     "output_type": "stream",
     "text": [
      "['dog', 'cat', 'fish']\n",
      "fish\n",
      "['dog', 'cat', 'rat', 'fish']\n",
      "rat\n"
     ]
    }
   ],
   "source": [
    "pets = [\"dog\",\"cat\",\"fish\"]\n",
    "print(pets)\n",
    "print(pets[2])\n",
    "pets.insert(2,\"rat\")\n",
    "print(pets)\n",
    "print(pets[2])"
   ]
  },
  {
   "cell_type": "code",
   "execution_count": 102,
   "id": "14576ee8",
   "metadata": {},
   "outputs": [
    {
     "name": "stdout",
     "output_type": "stream",
     "text": [
      "Enter a pet (or q to quit): cat\n",
      "Enter a pet (or q to quit): dog\n",
      "Enter a pet (or q to quit): hampster\n",
      "Enter a pet (or q to quit): fish\n",
      "Enter a pet (or q to quit): spider\n",
      "Enter a pet (or q to quit): q\n",
      "['cat', 'dog', 'hampster', 'fish', 'spider']\n"
     ]
    }
   ],
   "source": [
    "pets = [] # Start with an empty list\n",
    "while True:\n",
    "  p = input(\"Enter a pet (or q to quit): \")\n",
    "  if p == 'q':\n",
    "    break\n",
    "  else:\n",
    "    pets.append(p)\n",
    "print(pets)"
   ]
  },
  {
   "cell_type": "code",
   "execution_count": 103,
   "id": "c7e8344b",
   "metadata": {},
   "outputs": [],
   "source": [
    "pets[2] = 'hamster'"
   ]
  },
  {
   "cell_type": "code",
   "execution_count": 104,
   "id": "3054810f",
   "metadata": {},
   "outputs": [
    {
     "name": "stdout",
     "output_type": "stream",
     "text": [
      "['cat', 'dog', 'hamster', 'fish', 'spider']\n"
     ]
    }
   ],
   "source": [
    "print(pets)"
   ]
  },
  {
   "cell_type": "code",
   "execution_count": 110,
   "id": "d5540443",
   "metadata": {},
   "outputs": [
    {
     "name": "stdout",
     "output_type": "stream",
     "text": [
      "['cat', 'dog', 200, 3.0, [2, 4], True]\n",
      "3.0\n",
      "[2, 4]\n",
      "4\n"
     ]
    }
   ],
   "source": [
    "m = [\"cat\", \"dog\", 200, 3.0, [2,4], True]\n",
    "print(m)\n",
    "print(m[3])\n",
    "print(m[4])\n",
    "print(m[4][1])"
   ]
  },
  {
   "cell_type": "code",
   "execution_count": 112,
   "id": "91489ed1",
   "metadata": {},
   "outputs": [
    {
     "name": "stdout",
     "output_type": "stream",
     "text": [
      "('cat', 'dog', 200, 3.0, [2, 4], True)\n",
      "3.0\n",
      "[2, 4]\n",
      "4\n"
     ]
    }
   ],
   "source": [
    "n = (\"cat\", \"dog\", 200, 3.0, [2,4], True)\n",
    "print(n)\n",
    "print(n[3])\n",
    "print(n[4])\n",
    "print(n[4][1])"
   ]
  },
  {
   "cell_type": "code",
   "execution_count": 113,
   "id": "43cc3aae",
   "metadata": {},
   "outputs": [],
   "source": [
    "n[4][1] = 5"
   ]
  },
  {
   "cell_type": "code",
   "execution_count": 114,
   "id": "59acd867",
   "metadata": {},
   "outputs": [
    {
     "name": "stdout",
     "output_type": "stream",
     "text": [
      "('cat', 'dog', 200, 3.0, [2, 5], True)\n"
     ]
    }
   ],
   "source": [
    "print(n)"
   ]
  },
  {
   "cell_type": "code",
   "execution_count": 122,
   "id": "f2ed326f",
   "metadata": {},
   "outputs": [
    {
     "name": "stdout",
     "output_type": "stream",
     "text": [
      "7 109\n"
     ]
    }
   ],
   "source": [
    "# Find the largest number\n",
    "x = [30,16,70,30,30,30,60,109,40,67]\n",
    "max = x[0]\n",
    "index = 0\n",
    "for i in range(10):\n",
    "    if x[i] > max:\n",
    "        max = x[i]\n",
    "        index = i\n",
    "print(index,max)"
   ]
  },
  {
   "cell_type": "code",
   "execution_count": 123,
   "id": "b8b4bec8",
   "metadata": {},
   "outputs": [
    {
     "name": "stdout",
     "output_type": "stream",
     "text": [
      "1 16\n"
     ]
    }
   ],
   "source": [
    "# Find the smallest number\n",
    "x = [30,16,70,30,30,30,60,109,40,67]\n",
    "min = x[0]\n",
    "index = 0\n",
    "for i in range(10):\n",
    "    if x[i] < min:\n",
    "        min = x[i]\n",
    "        index = i\n",
    "print(index,min)"
   ]
  },
  {
   "cell_type": "code",
   "execution_count": null,
   "id": "0e7e72ee",
   "metadata": {},
   "outputs": [],
   "source": []
  }
 ],
 "metadata": {
  "kernelspec": {
   "display_name": "Python 3 (ipykernel)",
   "language": "python",
   "name": "python3"
  },
  "language_info": {
   "codemirror_mode": {
    "name": "ipython",
    "version": 3
   },
   "file_extension": ".py",
   "mimetype": "text/x-python",
   "name": "python",
   "nbconvert_exporter": "python",
   "pygments_lexer": "ipython3",
   "version": "3.9.7"
  }
 },
 "nbformat": 4,
 "nbformat_minor": 5
}
